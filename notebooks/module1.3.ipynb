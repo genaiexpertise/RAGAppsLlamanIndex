{
 "cells": [
  {
   "cell_type": "markdown",
   "id": "742a7ec8-fe68-4e76-87d4-4a330d58fc75",
   "metadata": {},
   "source": [
    "# Lesson 1.3: Setting Up Your Development Environment\n",
    "\n",
    "**Objective**:\n",
    "\n",
    "Set up the necessary tools and environment to begin working with Llamanindex and RAG applications."
   ]
  },
  {
   "cell_type": "markdown",
   "id": "d8bd4002-6a46-4ee0-934d-48e899adf5e8",
   "metadata": {},
   "source": [
    "The LlamaIndex ecosystem is structured using a collection of namespaced packages.\n",
    "\n",
    "What this means for users is that LlamaIndex comes with a core starter bundle, and additional integrations can be installed as needed.\n",
    "\n",
    "A complete list of packages and available integrations is available on [LlamaHub](https://docs.llamaindex.ai/en/stable/getting_started/installation/#:~:text=is%20available%20on-,LlamaHub,-.)."
   ]
  },
  {
   "cell_type": "markdown",
   "id": "6892cabd-31c6-4bed-baca-b0b626834d1b",
   "metadata": {},
   "source": [
    "**Quickstart Installation from Pip#**\n",
    "\n",
    "To get started quickly, you can install with:\n",
    "\n",
    "```\n",
    "pip install llama-index\n",
    "```"
   ]
  },
  {
   "cell_type": "markdown",
   "id": "525704d6-f49a-46f9-b834-0419cd096e93",
   "metadata": {},
   "source": [
    "This is a starter bundle of packages, containing\n",
    "```\n",
    "llama-index-core\n",
    "llama-index-legacy # temporarily included\n",
    "llama-index-llms-openai\n",
    "llama-index-embeddings-openai\n",
    "llama-index-program-openai\n",
    "llama-index-question-gen-openai\n",
    "llama-index-agent-openai\n",
    "llama-index-readers-file\n",
    "llama-index-multi-modal-llms-openai\n",
    "```\n"
   ]
  },
  {
   "cell_type": "markdown",
   "id": "7fbf1d87-3fe8-4fb0-b165-06c8c2ce12a2",
   "metadata": {},
   "source": [
    "[Follow this link for the complete installation setup](https://docs.llamaindex.ai/en/stable/getting_started/installation/)"
   ]
  },
  {
   "cell_type": "markdown",
   "id": "b1b3cc55-4a94-46b7-8fc6-316139ec6b2a",
   "metadata": {},
   "source": []
  },
  {
   "cell_type": "code",
   "execution_count": null,
   "id": "ec75dcc7-72a1-482f-97b0-c64014f98d5b",
   "metadata": {},
   "outputs": [],
   "source": []
  },
  {
   "cell_type": "code",
   "execution_count": null,
   "id": "0bdecea4-31c2-4343-aea6-96faebb4c582",
   "metadata": {},
   "outputs": [],
   "source": []
  },
  {
   "cell_type": "markdown",
   "id": "881e7745-fb48-45b1-9577-4254a6936d7d",
   "metadata": {},
   "source": [
    "**Module 1**: Review and Summary\n",
    "\n",
    "**Objective**:\n",
    "\n",
    "Recap the key concepts learned in Module 1 and prepare for deeper exploration in the following modules.\n",
    "\n",
    "**Activities**:\n",
    "\n",
    "**Quiz**: A short quiz covering the key points from Lessons 1.1, 1.2, and 1.3.\n",
    "\n",
    "**Q&A Session**: Open forum for any questions or clarifications.\n",
    "\n",
    "**Assignment**:\n",
    "\n",
    "Prepare a short presentation on a potential RAG application idea using Llamanindex, to be shared in the next class.\n"
   ]
  },
  {
   "cell_type": "code",
   "execution_count": null,
   "id": "c8c514cd-f8bc-4cea-a3c1-1c4c49fc99f9",
   "metadata": {},
   "outputs": [],
   "source": []
  }
 ],
 "metadata": {
  "kernelspec": {
   "display_name": "Python 3 (ipykernel)",
   "language": "python",
   "name": "python3"
  },
  "language_info": {
   "codemirror_mode": {
    "name": "ipython",
    "version": 3
   },
   "file_extension": ".py",
   "mimetype": "text/x-python",
   "name": "python",
   "nbconvert_exporter": "python",
   "pygments_lexer": "ipython3",
   "version": "3.12.2"
  }
 },
 "nbformat": 4,
 "nbformat_minor": 5
}
