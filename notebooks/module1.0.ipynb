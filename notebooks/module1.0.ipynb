{
 "cells": [
  {
   "cell_type": "markdown",
   "id": "018e6974-d14a-4ff2-935c-8fb6b97facc8",
   "metadata": {},
   "source": [
    "# Introduction to RAG and Llamanindex\n",
    "***"
   ]
  },
  {
   "cell_type": "markdown",
   "id": "20efb7a0-a7c9-4326-8391-e98b410c2867",
   "metadata": {},
   "source": [
    "**Objective**:\n",
    "\n",
    "- Understand the concept of RAG, its architecture, benefits, and common use cases.\n",
    "- Gain a foundational understanding of the Llamanindex Orchestration Framework, including its purpose, key features, and components.\n",
    "- Set up the necessary tools and environment to begin working with Llamanindex and RAG applications."
   ]
  },
  {
   "cell_type": "code",
   "execution_count": null,
   "id": "8cf1a726-875d-4c98-80fe-4b0864c10683",
   "metadata": {},
   "outputs": [],
   "source": []
  }
 ],
 "metadata": {
  "kernelspec": {
   "display_name": "Python 3 (ipykernel)",
   "language": "python",
   "name": "python3"
  },
  "language_info": {
   "codemirror_mode": {
    "name": "ipython",
    "version": 3
   },
   "file_extension": ".py",
   "mimetype": "text/x-python",
   "name": "python",
   "nbconvert_exporter": "python",
   "pygments_lexer": "ipython3",
   "version": "3.12.2"
  }
 },
 "nbformat": 4,
 "nbformat_minor": 5
}
