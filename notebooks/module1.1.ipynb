{
 "cells": [
  {
   "cell_type": "markdown",
   "id": "397657bb-1c83-47c6-911b-89fd250a2550",
   "metadata": {},
   "source": [
    "# Lesson 1.1: Overview of Retrieval-Augmented Generation (RAG)\n",
    "\n",
    "**Objective**:\n",
    "\n",
    "Understand the concept of RAG, its architecture, benefits, and common use cases."
   ]
  },
  {
   "attachments": {},
   "cell_type": "markdown",
   "id": "9d200330-bfb2-4813-8715-6a5340c93107",
   "metadata": {},
   "source": [
    "**What is RAG?**\n",
    "\n",
    "- Retrieval-Augmented Generation (RAG) is a framework in artificial intelligence (AI) that combines the strengths of large language models (LLMs) and traditional information retrieval systems. RAG can produce more accurate, relevant, and up-to-date text.\n",
    "\n",
    "\n",
    "- RAG Vs traditional language generation models\n",
    "\n",
    "| RAG | Traditional Language Model  |\n",
    "|-----|-----------------------------|\n",
    "| Acuurate and upto date information | Based on pretrained knowledge|\n",
    "| Provide contextually relevant response| May provide outdated information |\n",
    "| Can cite sources of information| Its limited to the training data|\n",
    "| Can handle specialized queries| No external source citation |\n",
    "\n",
    "\n",
    "**[RAG Architecture](https://docs.aws.amazon.com/sagemaker/latest/dg/jumpstart-foundation-models-customize-rag.html)**\n",
    "\n",
    "With RAG, the external data used to augment your prompts can come from multiple data sources, such as a document repositories, databases, or APIs.\n",
    "\n",
    "![](../docs/jumpstart-fm-rag.jpg)\n",
    "\n",
    "\n",
    "**Examples of RAG architecture in real-world applications.**\n"
   ]
  },
  {
   "cell_type": "markdown",
   "id": "ebf0b7f7-b984-4514-bc3a-f1a0d6ca6f98",
   "metadata": {},
   "source": [
    "*** \n",
    "**Benefits of RAG**\n",
    "\n",
    "- Enhanced context-awareness in generated outputs.\n",
    "- Scalability for large datasets.\n",
    "- Flexibility in application across various domains (e.g., customer support, legal document processing)."
   ]
  },
  {
   "cell_type": "markdown",
   "id": "a16b534f-a2ec-4912-952b-c68e0380c7a1",
   "metadata": {},
   "source": [
    "***\n",
    "**Common Use Cases of RAG**\n",
    "- Chatbots and conversational AI.\n",
    "- Document summarization and question answering.\n",
    "- Personalized content generation.\n",
    "- Case studies of successful RAG implementations."
   ]
  },
  {
   "cell_type": "markdown",
   "id": "49881522-7f37-484f-b597-1ebe26cf9660",
   "metadata": {},
   "source": [
    "## Import modules"
   ]
  },
  {
   "cell_type": "code",
   "execution_count": 2,
   "id": "49795549-bf6c-4adb-b383-73ff769ea980",
   "metadata": {},
   "outputs": [],
   "source": [
    "import os\n",
    "from dotenv import load_dotenv, find_dotenv\n",
    "_ = load_dotenv(find_dotenv())\n",
    "openai_api_key = os.environ[\"OPENAI_API_KEY\"]"
   ]
  },
  {
   "cell_type": "markdown",
   "id": "35a9f692-de14-4e31-9f9d-5d62e39bae41",
   "metadata": {},
   "source": [
    "## Load private documents \n",
    "to load documents, we need some module to help us do that so we will import them"
   ]
  },
  {
   "cell_type": "code",
   "execution_count": 5,
   "id": "1cc00476-22ff-4848-9228-7de0bb7c9ff7",
   "metadata": {},
   "outputs": [],
   "source": [
    "from llama_index.core import (\n",
    "    VectorStoreIndex,\n",
    "    SimpleDirectoryReader,\n",
    "    StorageContext,\n",
    "    load_index_from_storage,\n",
    ")\n"
   ]
  },
  {
   "cell_type": "code",
   "execution_count": 7,
   "id": "0e6c8502-032a-404c-862e-a3cfa41d6d51",
   "metadata": {},
   "outputs": [],
   "source": [
    "documents = SimpleDirectoryReader(\"data\").load_data()"
   ]
  },
  {
   "cell_type": "markdown",
   "id": "33942785-1330-4634-a5be-d80f2aaac16e",
   "metadata": {},
   "source": [
    "## Create a Vector database "
   ]
  },
  {
   "cell_type": "code",
   "execution_count": 8,
   "id": "0b0aa5a5-6375-44a3-afc6-77d56af6b8a2",
   "metadata": {},
   "outputs": [],
   "source": [
    "index = VectorStoreIndex.from_documents(documents)"
   ]
  },
  {
   "cell_type": "markdown",
   "id": "93910e0d-563e-43c2-8e0c-0dcfcee764a0",
   "metadata": {},
   "source": [
    "## Query the documents"
   ]
  },
  {
   "cell_type": "code",
   "execution_count": 9,
   "id": "4f702878-8ae4-4ff1-bf33-dc800686a01e",
   "metadata": {},
   "outputs": [
    {
     "name": "stdout",
     "output_type": "stream",
     "text": [
      "The documents discussed in the provided context primarily focus on the requirements and considerations related to providing evidence of harm in cases where a violation of human rights has occurred. The African Court Law Reports Volume 5 (2021) highlight the importance of not only proving that a state has violated provisions of the Charter but also demonstrating the harm suffered by the applicant seeking compensation. The Court emphasizes that a mere violation of the Charter is insufficient to establish material harm and that evidence of harm must be presented to support claims for damages.\n",
      "\n",
      "Furthermore, the documents mention that the need for supporting documents varies on a case-by-case basis, with human rights bodies and courts being sensitive to the challenges victims may face in obtaining evidence due to circumstances such as displacement or the destruction of evidence. In situations where evidence is unavailable or limited, courts often assess the internal consistency, level of detail, and plausibility of the applications in relation to the evidence as a whole. Additionally, reparations may be awarded even when documentation of damages is incomplete or non-existent, especially when it is logical that damages would have been incurred as a direct result of the established violations.\n",
      "\n",
      "The documents also discuss the specific case where the Applicant was arrested, detained, and arbitrarily expelled from a state, leading to their current refugee status in another country. This case highlights the challenging conditions under which the Applicant has been subjected to and the impact of human rights violations on their life.\n",
      "\n",
      "Moreover, the documents reference various legal cases and jurisprudence to support the principles discussed, including the need for evidence of harm, the considerations for awarding reparations in the absence of complete documentation, and the challenges faced by victims in proving their claims. These references provide a legal framework and context for understanding the Court's approach to assessing harm and awarding compensation in cases of human rights violations.\n",
      "\n",
      "In summary, the documents underscore the significance of providing evidence of harm in cases of human rights violations, the flexibility in requirements for supporting documents based on individual circumstances, and the considerations taken by courts when evidence is limited or unavailable. The specific case highlighted in the documents illustrates the real-world implications of these legal principles on individuals who have suffered human rights abuses.\n"
     ]
    }
   ],
   "source": [
    "query_engine = index.as_query_engine()\n",
    "response = query_engine.query(\"summarize the documents in 500 words\")\n",
    "print(response)"
   ]
  },
  {
   "cell_type": "markdown",
   "id": "e434652a-cc00-44de-b2b7-dd9988d29daf",
   "metadata": {},
   "source": [
    "**Activities:**\n",
    "\n",
    "- Discussion: Explore how RAG could improve applications you’re familiar with.\n",
    "- Case Study Review: Analyze a real-world RAG implementation and discuss its architecture and benefits."
   ]
  },
  {
   "cell_type": "markdown",
   "id": "e8bd569e-a9db-4fde-9cc8-0544b412223c",
   "metadata": {},
   "source": [
    "**Assignment:**\n",
    "\n",
    "- Write a brief essay on potential use cases of RAG in your industry or field of interest."
   ]
  },
  {
   "cell_type": "code",
   "execution_count": null,
   "id": "62198f6c-3fca-4883-b20f-f5730d246c0e",
   "metadata": {},
   "outputs": [],
   "source": []
  }
 ],
 "metadata": {
  "kernelspec": {
   "display_name": "Python 3 (ipykernel)",
   "language": "python",
   "name": "python3"
  },
  "language_info": {
   "codemirror_mode": {
    "name": "ipython",
    "version": 3
   },
   "file_extension": ".py",
   "mimetype": "text/x-python",
   "name": "python",
   "nbconvert_exporter": "python",
   "pygments_lexer": "ipython3",
   "version": "3.12.2"
  }
 },
 "nbformat": 4,
 "nbformat_minor": 5
}
